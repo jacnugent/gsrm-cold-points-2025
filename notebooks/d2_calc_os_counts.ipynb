{
 "cells": [
  {
   "cell_type": "markdown",
   "id": "1165f7bf-f06e-4077-b5a7-f906e4f05fbd",
   "metadata": {},
   "source": [
    "# Calculate overshooting counts with the updated threshold\n",
    "$T_b - T_{CP}$ !"
   ]
  },
  {
   "cell_type": "code",
   "execution_count": 1,
   "id": "c21ada7a-b01d-4d01-a42f-321a6292d9eb",
   "metadata": {},
   "outputs": [],
   "source": [
    "import sys\n",
    "sys.path.append(\"/home/b/b380887/cold-point-overshoot/python_scripts\")\n",
    "\n",
    "import xarray as xr\n",
    "import get_d2_data as get_d2\n",
    "\n",
    "from dask.diagnostics import ProgressBar\n"
   ]
  },
  {
   "cell_type": "code",
   "execution_count": 2,
   "id": "657750c3-0206-492c-a4c6-da2d33e7c116",
   "metadata": {},
   "outputs": [],
   "source": [
    "file_path = \"/work/bb1153/b380887/global_tropics/\"\n",
    "out_path = file_path + \"os_frequencies/\"\n"
   ]
  },
  {
   "cell_type": "markdown",
   "id": "28034d13-fcab-44a5-af14-b493da4af802",
   "metadata": {},
   "source": [
    "#### Models"
   ]
  },
  {
   "cell_type": "code",
   "execution_count": 3,
   "id": "440b89d5-c54f-4592-b0b8-7ed8d5ee9b8b",
   "metadata": {},
   "outputs": [],
   "source": [
    "model_list = [\"OBS\"] #\"SHIELD\", \"GEOS\", \"ICON\", \"SAM\"] # , \"SCREAM\"]\n",
    "chunks = {\"time\": 1}\n"
   ]
  },
  {
   "cell_type": "code",
   "execution_count": 4,
   "id": "8641b687-dd80-45e9-9e0a-d3526bc0fbd7",
   "metadata": {},
   "outputs": [],
   "source": [
    "diffs_dict = {}\n",
    "\n",
    "for model in model_list:\n",
    "    diffs_dict[model] = get_d2.get_diffs(model, file_path)\n"
   ]
  },
  {
   "cell_type": "code",
   "execution_count": 5,
   "id": "d64ed2ca-db54-4442-b320-7791dc49d1ad",
   "metadata": {},
   "outputs": [
    {
     "name": "stdout",
     "output_type": "stream",
     "text": [
      "[########################################] | 100% Completed | 15.9s\n",
      "OBS done\n"
     ]
    }
   ],
   "source": [
    "counts_dict = {}\n",
    "freqs_dict = {}\n",
    "\n",
    "for model in model_list:\n",
    "    diffs = diffs_dict[model].chunk(chunks)\n",
    "    counts_chunked = diffs.where(diffs < 0).count(dim=\"time\")\n",
    "    with ProgressBar():\n",
    "        counts = counts_chunked.compute()\n",
    "        \n",
    "    ntime = len(diffs_dict[model].time)\n",
    "    counts_dict[model] = counts\n",
    "    freqs_dict[model] = counts/ntime\n",
    "    \n",
    "    print(model, \"done\")\n",
    "    "
   ]
  },
  {
   "cell_type": "code",
   "execution_count": 9,
   "id": "eb58a22f-eda9-42bc-bb97-9750c6bb8211",
   "metadata": {},
   "outputs": [],
   "source": [
    "def save_os_netcdf(model, counts_dict, freqs_dict, out_path, return_ds=False):\n",
    "    \"\"\" \n",
    "    Make a dataset of os counts and frequencies for \n",
    "    one model and save as a netcdf\n",
    "    \"\"\"\n",
    "    freq_da = xr.DataArray((freqs_dict[model]),\n",
    "                           dims=counts_dict[model].dims,\n",
    "                           coords = counts_dict[model].coords,\n",
    "                           attrs={\"long_name\": \"frequency of overshoot\",\n",
    "                                  \"os_thresh\": \"Tb-Tcp < 0\"\n",
    "                                 }\n",
    "                          )\n",
    "\n",
    "    count_da = xr.DataArray(counts_dict[model],\n",
    "                           dims=counts_dict[model].dims,\n",
    "                           coords = counts_dict[model].coords,\n",
    "                           attrs={\"long_name\": \"number of occurrences of overshoot\",\n",
    "                                  \"os_thresh\": \"Tb-Tcp < 0\"\n",
    "                                 }\n",
    "                          )\n",
    "\n",
    "    os_ds = xr.Dataset({\"os_freq\": freq_da, \"os_count\": count_da})\n",
    "    \n",
    "    out_name = out_path + \"{m}_os_freq_count.nc\".format(m=model)\n",
    "    os_ds.to_netcdf(out_name)\n",
    "    print(\"file saved to\", out_name)\n",
    "    \n",
    "    if return_ds:\n",
    "        return os_ds\n"
   ]
  },
  {
   "cell_type": "code",
   "execution_count": 7,
   "id": "70a6cdae-e8d0-4616-b0f7-69723f4669c0",
   "metadata": {},
   "outputs": [
    {
     "name": "stdout",
     "output_type": "stream",
     "text": [
      "file saved to /work/bb1153/b380887/global_tropics/os_frequencies/SHIELD_os_freq_count.nc\n",
      "file saved to /work/bb1153/b380887/global_tropics/os_frequencies/GEOS_os_freq_count.nc\n",
      "file saved to /work/bb1153/b380887/global_tropics/os_frequencies/ICON_os_freq_count.nc\n",
      "file saved to /work/bb1153/b380887/global_tropics/os_frequencies/SAM_os_freq_count.nc\n"
     ]
    }
   ],
   "source": [
    "for model in model_list:\n",
    "    save_os_netcdf(model, counts_dict, freqs_dict, out_path)\n"
   ]
  },
  {
   "cell_type": "code",
   "execution_count": 10,
   "id": "86e28a07-0b39-4cfb-a7a6-67393738ddb1",
   "metadata": {},
   "outputs": [
    {
     "name": "stdout",
     "output_type": "stream",
     "text": [
      "file saved to /work/bb1153/b380887/global_tropics/os_frequencies/OBS_os_freq_count.nc\n"
     ]
    }
   ],
   "source": [
    "# just obs\n",
    "for model in model_list:\n",
    "    save_os_netcdf(model, counts_dict, freqs_dict, out_path)\n"
   ]
  },
  {
   "cell_type": "code",
   "execution_count": null,
   "id": "eebf7397-b74b-460d-97f6-e9757d9c66de",
   "metadata": {},
   "outputs": [],
   "source": []
  }
 ],
 "metadata": {
  "kernelspec": {
   "display_name": "dyamond2 kernel",
   "language": "python",
   "name": "d2env"
  },
  "language_info": {
   "codemirror_mode": {
    "name": "ipython",
    "version": 3
   },
   "file_extension": ".py",
   "mimetype": "text/x-python",
   "name": "python",
   "nbconvert_exporter": "python",
   "pygments_lexer": "ipython3",
   "version": "3.10.4"
  }
 },
 "nbformat": 4,
 "nbformat_minor": 5
}
