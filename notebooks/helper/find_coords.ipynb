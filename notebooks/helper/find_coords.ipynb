{
 "cells": [
  {
   "cell_type": "markdown",
   "metadata": {},
   "source": [
    "# Get model coordinates from grid files\n",
    "and save as a csv"
   ]
  },
  {
   "cell_type": "code",
   "execution_count": 3,
   "metadata": {},
   "outputs": [],
   "source": [
    "import sys\n",
    "sys.path.append(\"/home/b/b380887/cold-point-overshoot/python_scripts/\")\n",
    "\n",
    "import numpy as np\n",
    "import xarray as xr\n",
    "\n",
    "from find_model_coords import find_model_coords\n"
   ]
  },
  {
   "cell_type": "code",
   "execution_count": 4,
   "metadata": {},
   "outputs": [],
   "source": [
    "out_dir = \"/home/b/b380887/cold-point-overshoot/pickle_files/coord_csvs/\"\n"
   ]
  },
  {
   "cell_type": "markdown",
   "metadata": {},
   "source": [
    "#### SCREAM"
   ]
  },
  {
   "cell_type": "code",
   "execution_count": 5,
   "metadata": {},
   "outputs": [],
   "source": [
    "# scream_grid_file = \"/scratch/b/b380887/global_tropics/SCREAM/grids/SCREAM_grid_ITCZ.nc\"\n",
    "scream_grid_file = \"/scratch/b/b380887/SCREAM/SCREAM_grid_GT.nc\"\n",
    "scream_out = out_dir + \"SCREAM_coords_GT.csv\"\n"
   ]
  },
  {
   "cell_type": "markdown",
   "metadata": {
    "tags": []
   },
   "source": [
    "#### GT"
   ]
  },
  {
   "cell_type": "code",
   "execution_count": 8,
   "metadata": {},
   "outputs": [
    {
     "name": "stdout",
     "output_type": "stream",
     "text": [
      "CPU times: user 1min 1s, sys: 3.9 s, total: 1min 5s\n",
      "Wall time: 1min 5s\n"
     ]
    }
   ],
   "source": [
    "%%time\n",
    "\n",
    "find_model_coords(scream_grid_file, scream_out, -30, 30, 0, 360,\n",
    "                   \"lon\", \"lat\",\n",
    "                   radians=False\n",
    "                  )\n"
   ]
  },
  {
   "cell_type": "markdown",
   "metadata": {
    "tags": []
   },
   "source": [
    "#### ITCZ"
   ]
  },
  {
   "cell_type": "code",
   "execution_count": 14,
   "metadata": {},
   "outputs": [
    {
     "name": "stdout",
     "output_type": "stream",
     "text": [
      "CPU times: user 53.5 s, sys: 1.74 s, total: 55.3 s\n",
      "Wall time: 55.3 s\n"
     ]
    }
   ],
   "source": [
    "%%time\n",
    "\n",
    "find_model_coords(grid_file, scream_out, -30, 10, 0, 360,\n",
    "                   \"grid_center_lon\", \"grid_center_lat\",\n",
    "                   radians=False\n",
    "                  )\n"
   ]
  },
  {
   "cell_type": "markdown",
   "metadata": {},
   "source": [
    "#### 10x10 regions"
   ]
  },
  {
   "cell_type": "code",
   "execution_count": 3,
   "metadata": {},
   "outputs": [],
   "source": [
    "grid_file_twp = \"/scratch/b/b380887/global_tropics/SCREAM/grids/SCREAM_grid_winter_TWP.nc\"\n",
    "grid_file_sca = \"/scratch/b/b380887/global_tropics/SCREAM/grids/SCREAM_grid_winter_SCA.nc\"\n",
    "grid_file_sav = \"/scratch/b/b380887/global_tropics/SCREAM/grids/SCREAM_grid_winter_SAV.nc\"\n",
    "grid_file_tim = \"/scratch/b/b380887/global_tropics/SCREAM/grids/SCREAM_grid_winter_TIM.nc\"\n",
    "\n",
    "scream_out_twp = out_dir + \"SCREAM_coords_TWP.csv\"\n",
    "scream_out_sca = out_dir + \"SCREAM_coords_SCA.csv\"\n",
    "scream_out_sav = out_dir + \"SCREAM_coords_SAV.csv\"\n",
    "scream_out_tim = out_dir + \"SCREAM_coords_TIM.csv\"\n"
   ]
  },
  {
   "cell_type": "code",
   "execution_count": 4,
   "metadata": {},
   "outputs": [],
   "source": [
    "grid_twp = xr.open_dataset(grid_file_twp)\n",
    "grid_sca = xr.open_dataset(grid_file_sca)\n",
    "grid_sav = xr.open_dataset(grid_file_sav)\n",
    "grid_tim = xr.open_dataset(grid_file_tim)\n"
   ]
  },
  {
   "cell_type": "code",
   "execution_count": 21,
   "metadata": {},
   "outputs": [
    {
     "name": "stdout",
     "output_type": "stream",
     "text": [
      "CPU times: user 1.61 s, sys: 80 ms, total: 1.69 s\n",
      "Wall time: 2.02 s\n"
     ]
    }
   ],
   "source": [
    "%%time \n",
    "\n",
    "find_model_coords(grid_file_twp, scream_out_twp, -5, 5, 143, 153,\n",
    "                   \"grid_center_lon\", \"grid_center_lat\",\n",
    "                   radians=False )\n",
    "\n",
    "find_model_coords(grid_file_sca, scream_out_sca, -17, -7, 20, 30,\n",
    "                   \"grid_center_lon\", \"grid_center_lat\",\n",
    "                   radians=False )\n",
    "\n",
    "find_model_coords(grid_file_sav, scream_out_sav, -25, -15, 297, 307, #-63, -53,\n",
    "                   \"grid_center_lon\", \"grid_center_lat\",\n",
    "                   radians=False )\n",
    "\n",
    "find_model_coords(grid_file_tim, scream_out_tim, -12, -2, 120, 130,\n",
    "                   \"grid_center_lon\", \"grid_center_lat\",\n",
    "                   radians=False )\n"
   ]
  },
  {
   "cell_type": "code",
   "execution_count": null,
   "metadata": {},
   "outputs": [],
   "source": []
  }
 ],
 "metadata": {
  "kernelspec": {
   "display_name": "dyamond2 kernel",
   "language": "python",
   "name": "d2env"
  },
  "language_info": {
   "codemirror_mode": {
    "name": "ipython",
    "version": 3
   },
   "file_extension": ".py",
   "mimetype": "text/x-python",
   "name": "python",
   "nbconvert_exporter": "python",
   "pygments_lexer": "ipython3",
   "version": "3.10.4"
  }
 },
 "nbformat": 4,
 "nbformat_minor": 4
}
