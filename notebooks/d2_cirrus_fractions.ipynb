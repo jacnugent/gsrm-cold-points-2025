{
 "cells": [
  {
   "cell_type": "markdown",
   "id": "4fd21355",
   "metadata": {},
   "source": [
    "# Cirrus fractions for DYAMOND2 models"
   ]
  },
  {
   "cell_type": "markdown",
   "id": "f1d6f56e",
   "metadata": {},
   "source": [
    "1. \"convective cirrus\" = qtot(+500m) > ~~5e-5~~ 2.5e-4\n",
    "\n",
    "2. \"other stratospheric cirrus\" = qtot(+500m) > 1e-6 and < ~~5e-5~~ 2.5e-4\n",
    "\n",
    "^ try this....\n",
    "\n",
    "#### want to know how often you have data point falling into one of the two categories"
   ]
  },
  {
   "cell_type": "code",
   "execution_count": 1,
   "id": "7b98a8d6",
   "metadata": {
    "tags": []
   },
   "outputs": [],
   "source": [
    "import pickle\n",
    "import sys\n",
    "sys.path.append(\"/home/b/b380887/cold-point-overshoot/python_scripts/\")\n",
    "\n",
    "import xarray as xr\n",
    "import numpy as np\n",
    "import get_d2_data as get_d2\n"
   ]
  },
  {
   "cell_type": "code",
   "execution_count": 2,
   "id": "f156d9ff",
   "metadata": {
    "tags": []
   },
   "outputs": [],
   "source": [
    "file_path = \"/work/bb1153/b380887/10x10/\"\n",
    "pickle_dir = \"/home/b/b380887/cold-point-overshoot/pickle_files/d2_cirrus_fracs/new_thresh/\"\n"
   ]
  },
  {
   "cell_type": "code",
   "execution_count": 3,
   "id": "918c6ce2",
   "metadata": {
    "tags": []
   },
   "outputs": [],
   "source": [
    "conv_thresh = 2.5e-4 #5e-5"
   ]
  },
  {
   "cell_type": "code",
   "execution_count": 4,
   "id": "ec369408",
   "metadata": {
    "tags": []
   },
   "outputs": [],
   "source": [
    "# model_list = [\"GEOS\"] #\"SHIELD\", \"SCREAM\"] #, GEOS] # OBS\n",
    "model_list = [\"SCREAM\"]\n",
    "region_list = [\"AMZ\", \"SPC\"]#, \"TIM\", \"SCA\"]\n"
   ]
  },
  {
   "cell_type": "code",
   "execution_count": 4,
   "id": "236ba5a1",
   "metadata": {
    "tags": []
   },
   "outputs": [],
   "source": [
    "def get_conv_other_fracs(region, model, file_path, conv_thresh):\n",
    "    \"\"\" Get the convective & other cirrus fractions\n",
    "    \"\"\"\n",
    "    tb = get_d2.get_brightness_temp(region, model, file_path)\n",
    "    cpT, cp_inds = get_d2.get_cold_point(region, model, file_path, return_inds=True)\n",
    "    qtot = get_d2.get_qtot(region, model, file_path)\n",
    "\n",
    "    if len(tb.time) < len(cpT.time):\n",
    "        cpT = cpT.sel(time=tb.time)\n",
    "    elif len(cpT.time) < len(tb.time):\n",
    "        tb = tb.sel(time=cpT.time)\n",
    "    diffs = tb - cpT\n",
    "\n",
    "    if model == \"SHIELD\":\n",
    "        # diffs = diffs.sel(time=qtot.time)\n",
    "        cp_inds = cp_inds.sel(time=qtot.time)\n",
    "        \n",
    "    if model == \"SHIELD\":\n",
    "        qtot500 = qtot.isel(pfull_ref=cp_inds+1)\n",
    "    elif model == \"SCREAM\" or model == \"GEOS\":\n",
    "        qtot500 = qtot.isel(lev=cp_inds+2)\n",
    "        \n",
    "    qtot500_conv = qtot500.where(qtot500 >= conv_thresh)\n",
    "    qtot500_other = qtot500.where(qtot500 < conv_thresh).where(qtot500 >= 1e-6)\n",
    "    n_cols = qtot500.size\n",
    "    print(conv_thresh, n_cols)\n",
    "    \n",
    "    frac_conv = qtot500_conv.count().values / n_cols\n",
    "    # frac_other = qtot500.count().values / n_cols\n",
    "    frac_other = qtot500_other.count().values / n_cols\n",
    "\n",
    "    return frac_conv, frac_other\n"
   ]
  },
  {
   "cell_type": "code",
   "execution_count": 5,
   "id": "01d5578d-d829-4f47-97e2-ed8a37ab5feb",
   "metadata": {
    "tags": []
   },
   "outputs": [],
   "source": [
    "def get_obs_conv_other_fracs(region, file_path, conv_thresh, a500_ref=0.136337):\n",
    "    \"\"\" Get the convective & other cirrus fractions\n",
    "    \"\"\"\n",
    "    qtot500 = get_d2.get_qtot(region, \"OBS\", file_path, obs_cp_relative=True)[\"iwc_a500\"]/a500_ref\n",
    "\n",
    "    qtot500_conv = qtot500.where(qtot500 >= conv_thresh)\n",
    "    qtot500_other = qtot500.where(qtot500 < conv_thresh).where(qtot500 >= 1e-6)\n",
    "    n_cols = qtot500.size\n",
    "    \n",
    "    frac_conv = qtot500_conv.count().values / n_cols\n",
    "    # frac_other = qtot500.count().values / n_cols\n",
    "    frac_other = qtot500_other.count().values / n_cols\n",
    "    \n",
    "    return frac_conv, frac_other\n"
   ]
  },
  {
   "cell_type": "code",
   "execution_count": 6,
   "id": "4b172e36-fd10-4bbc-9eae-218cc3cc30e0",
   "metadata": {
    "tags": []
   },
   "outputs": [],
   "source": [
    "model = \"GEOS\"\n",
    "region = \"SPC\""
   ]
  },
  {
   "cell_type": "code",
   "execution_count": 7,
   "id": "1b098c65-133c-4029-8f5b-11afdc6dceb8",
   "metadata": {
    "tags": []
   },
   "outputs": [
    {
     "name": "stdout",
     "output_type": "stream",
     "text": [
      "[########################################] | 100% Completed | 10.7s\n",
      "0.00025 20520960\n"
     ]
    }
   ],
   "source": [
    "frac_conv, frac_other = get_conv_other_fracs(region, model, file_path, conv_thresh=conv_thresh)"
   ]
  },
  {
   "cell_type": "code",
   "execution_count": 8,
   "id": "3c40af10-ebe3-4d38-94f6-0735db583f56",
   "metadata": {
    "tags": []
   },
   "outputs": [
    {
     "name": "stdout",
     "output_type": "stream",
     "text": [
      "0.007519141404690618\n",
      "0.0754594326971058\n"
     ]
    }
   ],
   "source": [
    "# new\n",
    "print(frac_conv*100.)\n",
    "print(frac_other*100.)"
   ]
  },
  {
   "cell_type": "code",
   "execution_count": 9,
   "id": "8d0f6073-ef23-4901-a9c0-5c72b6a1e232",
   "metadata": {
    "tags": []
   },
   "outputs": [
    {
     "name": "stdout",
     "output_type": "stream",
     "text": [
      "[########################################] | 100% Completed |  7.9s\n",
      "5e-05 20520960\n"
     ]
    }
   ],
   "source": [
    "frac_conv2, frac_other2 = get_conv_other_fracs(region, model, file_path, conv_thresh=5e-5)"
   ]
  },
  {
   "cell_type": "code",
   "execution_count": 10,
   "id": "6ca11741-e042-4429-a64c-3fa19f62c337",
   "metadata": {
    "tags": []
   },
   "outputs": [
    {
     "name": "stdout",
     "output_type": "stream",
     "text": [
      "0.01952150386726547\n",
      "0.06345707023453094\n"
     ]
    }
   ],
   "source": [
    "# old\n",
    "print(frac_conv2*100.)\n",
    "print(frac_other2*100.)"
   ]
  },
  {
   "cell_type": "code",
   "execution_count": null,
   "id": "a01f8642-8a0b-4423-983f-6da7bf1a24bd",
   "metadata": {},
   "outputs": [],
   "source": []
  },
  {
   "cell_type": "code",
   "execution_count": null,
   "id": "bc7abc50-0b9e-4ad2-a573-1e624d3ace08",
   "metadata": {},
   "outputs": [],
   "source": []
  },
  {
   "cell_type": "code",
   "execution_count": null,
   "id": "88be7826-6fbb-49d5-9743-afd2921adeae",
   "metadata": {},
   "outputs": [],
   "source": []
  },
  {
   "cell_type": "code",
   "execution_count": null,
   "id": "24888028-9446-451e-a112-b0f93426f9ab",
   "metadata": {},
   "outputs": [],
   "source": []
  },
  {
   "cell_type": "code",
   "execution_count": 8,
   "id": "e91baeb5-6d01-4c90-9a97-5e9a0186626a",
   "metadata": {
    "tags": []
   },
   "outputs": [
    {
     "name": "stdout",
     "output_type": "stream",
     "text": [
      "*** returning DARDAR IWC, not mixing ratio ***\n",
      "DARDAR AMZ\n",
      "convective 0.031417466315987894 %\n",
      "other 1.4622586465355512 %\n",
      "\n",
      "*** returning DARDAR IWC, not mixing ratio ***\n",
      "DARDAR SPC\n",
      "convective 0.008134710811030668 %\n",
      "other 7.069515623164041 %\n",
      "\n",
      "CPU times: user 159 ms, sys: 37.7 ms, total: 197 ms\n",
      "Wall time: 865 ms\n"
     ]
    }
   ],
   "source": [
    "%%time\n",
    "for region in region_list:\n",
    "        frac_conv, frac_other = get_obs_conv_other_fracs(region, file_path, conv_thresh=conv_thresh)\n",
    "        print(\"DARDAR\", region)\n",
    "        print(\"convective\", frac_conv*100., \"%\")\n",
    "        print(\"other\", frac_other*100., \"%\\n\")\n",
    "        "
   ]
  },
  {
   "cell_type": "code",
   "execution_count": 7,
   "id": "1885f8f6",
   "metadata": {},
   "outputs": [
    {
     "name": "stdout",
     "output_type": "stream",
     "text": [
      "[########################################] | 100% Completed |  1min 10.9s\n",
      "SHIELD AMZ\n",
      "convective 0.02207252221222257 %\n",
      "other 0.4451704114560583 %\n",
      "\n",
      "[########################################] | 100% Completed |  3min 56.2s\n",
      "SHIELD SPC\n",
      "convective 0.05943789192899987 %\n",
      "other 1.4161970762591924 %\n",
      "\n",
      "SCREAM AMZ\n",
      "convective 0.03023012180830285 %\n",
      "other 0.2356484605277176 %\n",
      "\n",
      "SCREAM SPC\n",
      "convective 0.015540164610632541 %\n",
      "other 0.38907168300622247 %\n",
      "\n",
      "CPU times: user 28.8 s, sys: 46.4 s, total: 1min 15s\n",
      "Wall time: 7min 20s\n"
     ]
    }
   ],
   "source": [
    "%%time\n",
    "for model in model_list:\n",
    "    \n",
    "    for region in region_list:\n",
    "        frac_conv, frac_other = get_conv_other_fracs(region, model, file_path, conv_thresh=conv_thresh)\n",
    "        print(model, region)\n",
    "        print(\"convective\", frac_conv*100., \"%\")\n",
    "        print(\"other\", frac_other*100., \"%\\n\")\n",
    "        \n",
    "        frac_dict = {\n",
    "            \"convective\": frac_conv,\n",
    "            \"other\": frac_other,\n",
    "            \"conv_thresh\": conv_thresh\n",
    "        }\n",
    "        \n",
    "        with open(pickle_dir + \"{m}_conv_other_fracs_{r}.pickle\".format(m=model, r=region), \"wb\") as handle:\n",
    "            pickle.dump(frac_dict, handle)\n",
    "        "
   ]
  },
  {
   "cell_type": "code",
   "execution_count": null,
   "id": "9a6cd87d",
   "metadata": {},
   "outputs": [],
   "source": [
    "# Just GEOS (memory issue before for AMZ!)"
   ]
  },
  {
   "cell_type": "code",
   "execution_count": 7,
   "id": "278c28c2",
   "metadata": {
    "tags": []
   },
   "outputs": [
    {
     "name": "stdout",
     "output_type": "stream",
     "text": [
      "[########################################] | 100% Completed | 45.5s\n",
      "GEOS AMZ\n",
      "convective 0.014604932592618804 %\n",
      "other 0.33261974688321955 %\n",
      "\n",
      "[########################################] | 100% Completed | 46.2s\n",
      "GEOS SPC\n",
      "convective 0.007519141404690618 %\n",
      "other 0.0754594326971058 %\n",
      "\n",
      "CPU times: user 34.3 s, sys: 53.9 s, total: 1min 28s\n",
      "Wall time: 3min 25s\n"
     ]
    }
   ],
   "source": [
    "%%time\n",
    "for model in model_list:\n",
    "    \n",
    "    for region in region_list:\n",
    "        frac_conv, frac_other = get_conv_other_fracs(region, model, file_path, conv_thresh=conv_thresh)\n",
    "        print(model, region)\n",
    "        print(\"convective\", frac_conv*100., \"%\")\n",
    "        print(\"other\", frac_other*100., \"%\\n\")\n",
    "        \n",
    "        frac_dict = {\n",
    "            \"convective\": frac_conv,\n",
    "            \"other\": frac_other,\n",
    "            \"conv_thresh\": conv_thresh\n",
    "        }\n",
    "        \n",
    "        with open(pickle_dir + \"{m}_conv_other_fracs_{r}.pickle\".format(m=model, r=region), \"wb\") as handle:\n",
    "            pickle.dump(frac_dict, handle)\n",
    "        "
   ]
  },
  {
   "cell_type": "code",
   "execution_count": null,
   "id": "e49bae25",
   "metadata": {},
   "outputs": [],
   "source": []
  },
  {
   "cell_type": "code",
   "execution_count": null,
   "id": "e75c0ad8",
   "metadata": {},
   "outputs": [],
   "source": []
  }
 ],
 "metadata": {
  "kernelspec": {
   "display_name": "dyamond2 kernel",
   "language": "python",
   "name": "d2env"
  },
  "language_info": {
   "codemirror_mode": {
    "name": "ipython",
    "version": 3
   },
   "file_extension": ".py",
   "mimetype": "text/x-python",
   "name": "python",
   "nbconvert_exporter": "python",
   "pygments_lexer": "ipython3",
   "version": "3.10.4"
  }
 },
 "nbformat": 4,
 "nbformat_minor": 5
}
